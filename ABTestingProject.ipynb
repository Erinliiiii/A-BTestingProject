{
 "cells": [
  {
   "cell_type": "markdown",
   "metadata": {},
   "source": [
    "#Introduction\n",
    "\n",
    "This report is the final project of A/B Testing Course of Udacity. The structure of the report follows the suggested structure of the Udacity for the project report, with some further explanations where ever it is needed.\n",
    "\n",
    "The project is about an A/B Testing, not surprisingly, an experiment that Udacity, an e-learning platform, wants to do on the users of its courses.\n",
    "\n",
    "More specifically, an experimental step would be added after the “Start Free Trial” button on the course page. Based on this experiment, after clicking on the “Start Free Trial” button, a message would be shown asking users the weekly time that they want to invest on the course. If the input hours is below 5 hours per week, “a message would appear indicating that Udacity courses usually require a greater time commitment for successful completion, and suggestiong that the student might like to access the course materials for free.”\n",
    "\n",
    "The goal of the experiment is reducing the number of students who would quit the course during the starting 14 days trial, while leaving the number of students who pass this 14 days period intact. "
   ]
  },
  {
   "cell_type": "markdown",
   "metadata": {},
   "source": [
    "#Experiment Design\n",
    "The unit of diversion is a cookie, although if the student enrolls in the free trial, they are tracked by user-id from that point forward. The same user-id cannot enroll in the free trial twice. For users that do not enroll, their user-id is not tracked in the experiment, even if they were signed in when they visited the course overview page."
   ]
  },
  {
   "cell_type": "markdown",
   "metadata": {},
   "source": [
    "##Metric Choice\n",
    "**Invariant Metrics** : number of cookies, number of clicks, click-through-probability.\n",
    "**Evaluation Metrics** : gross conversion, retention, net conversion."
   ]
  },
  {
   "cell_type": "markdown",
   "metadata": {},
   "source": [
    "###**Evaluation Metrics**\n",
    "\n",
    "Evaluation metrics are chosen since there is a possibility of different distribution between experiment and control groups as a function of experiment. Each evaluation metric is associated with a minimum difference (dmin) that must be observed for consideration in the decision to launch the experiment. The ultimate goal is to minimize student frustation and use the limited coaching resources most efficiently. With this in mind, the following conditions must be satisfied -\n",
    "\n",
    "-Increased retension, i.e, the ratio of users who remained enrolled past the 14-day boundary to the number of users to complete checkout should increase.\n",
    "\n",
    "-Decreased gross conversion coupled to increase in net conversion, i.e, less students enrolling in free trial but more students staying beyound the free trial.\n",
    "\n",
    "**Gross conversion**: That is, number of user-ids to complete checkout and enroll in the free trial divided by number of unique cookies to click the \"Start free trial\" button.\n",
    "\n",
    "**Retention**: That is, number of user-ids to remain enrolled past the 14-day boundary (and thus make at least one payment) divided by number of user-ids to complete checkout.\n",
    "\n",
    "**Net conversion**: That is, number of user-ids to remain enrolled past the 14-day boundary (and thus make at least one payment) divided by the number of unique cookies to click the \"Start free trial\" button."
   ]
  },
  {
   "cell_type": "markdown",
   "metadata": {},
   "source": [
    "##Sizing\n",
    "###Number of Samples and Power\n",
    "Page views required for each evaluation metric is calculated separately using the online calculator. The alpha vaue of 0.05 and beta value of 0.2 is used in all the cases.\n",
    "\n",
    "***Pageviews for Each Evaluation Metric to Achieve Target Statistical Power***\n",
    "\n",
    "**Gross Conversion**\n",
    "- Baseline Conversion: 20.625%\n",
    "- Minimum Detectable Effect: 1%\n",
    "- alpha: 5%\n",
    "- beta: 20%\n",
    "- 1 - beta: 80%\n",
    "- sample size = 25,835 enrollments/group\n",
    "- Number of groups = 2 (experiment and control)\n",
    "- total sample size = 51,670 enrollments\n",
    "- clicks/pageview: 3200/40000 = .08 clicks/pageview\n",
    "- pageviews = 645,875\n",
    "\n",
    "**Retention**\n",
    "- Baseline Conversion: 53%\n",
    "- Minimum Detectable Effect: 1%\n",
    "- alpha: 5%\n",
    "- beta: 20%\n",
    "- 1 - beta: 80%\n",
    "- sample size = 39,155 enrollments/group\n",
    "- Number of groups = 2 (experiment and control)\n",
    "- total sample size = 78,230 enrollments\n",
    "- enrollments/pageview: 660/40000 = .0165 enrollments/pageview\n",
    "- pageviews = 78,230/.0165 = 4,741,212\n",
    "\n",
    "**Net Conversion**\n",
    "- Baseline Conversion: 10.9313%\n",
    "- Minimum Detectable Effect: .75%\n",
    "- alpha: 5%\n",
    "- beta: 20%\n",
    "- 1 - beta: 80%\n",
    "- sample size = 27,413 enrollments/group\n",
    "- Number of groups = 2 (experiment and control)\n",
    "- total sample size = 54,826\n",
    "- clicks/pageview: 3200/40000 = .08 clicks/pageview\n",
    "- pageviews = 685,325"
   ]
  },
  {
   "cell_type": "markdown",
   "metadata": {},
   "source": [
    "###Duration and Exposure"
   ]
  },
  {
   "cell_type": "code",
   "execution_count": 1,
   "metadata": {},
   "outputs": [
    {
     "data": {
      "text/plain": [
       "118.5303"
      ]
     },
     "execution_count": 1,
     "metadata": {},
     "output_type": "execute_result"
    }
   ],
   "source": [
    "4741212.0/40000"
   ]
  },
  {
   "cell_type": "code",
   "execution_count": 2,
   "metadata": {},
   "outputs": [
    {
     "data": {
      "text/plain": [
       "17.133125"
      ]
     },
     "execution_count": 2,
     "metadata": {},
     "output_type": "execute_result"
    }
   ],
   "source": [
    "685325.0/40000"
   ]
  },
  {
   "cell_type": "markdown",
   "metadata": {},
   "source": [
    "If we divert 100% off traffic, given 40,000 page views per day, the experiment would take 119 days. That is a long time. If we eliminate retention, we are left with Gross Conversion and Net Conversion. This reduces the number of required pageviews to 685,325, and an 18 day experiment with 100% diversion. There may be other experiments to run, so let's say 50% diversion for 35 days."
   ]
  },
  {
   "cell_type": "code",
   "execution_count": 3,
   "metadata": {},
   "outputs": [],
   "source": [
    "import pandas as pd\n",
    "import numpy as np"
   ]
  },
  {
   "cell_type": "code",
   "execution_count": 4,
   "metadata": {},
   "outputs": [],
   "source": [
    "df_control = pd.read_csv(\"C:/Users/siyue/OneDrive/Desktop/ab project/Final Project Results - Control.csv\")\n",
    "df_experiment = pd.read_csv(\"C:/Users/siyue/OneDrive/Desktop/ab project/Final Project Results - Experiment.csv\")"
   ]
  },
  {
   "cell_type": "code",
   "execution_count": 5,
   "metadata": {},
   "outputs": [
    {
     "data": {
      "text/html": [
       "<div>\n",
       "<style scoped>\n",
       "    .dataframe tbody tr th:only-of-type {\n",
       "        vertical-align: middle;\n",
       "    }\n",
       "\n",
       "    .dataframe tbody tr th {\n",
       "        vertical-align: top;\n",
       "    }\n",
       "\n",
       "    .dataframe thead th {\n",
       "        text-align: right;\n",
       "    }\n",
       "</style>\n",
       "<table border=\"1\" class=\"dataframe\">\n",
       "  <thead>\n",
       "    <tr style=\"text-align: right;\">\n",
       "      <th></th>\n",
       "      <th>Date</th>\n",
       "      <th>Pageviews</th>\n",
       "      <th>Clicks</th>\n",
       "      <th>Enrollments</th>\n",
       "      <th>Payments</th>\n",
       "    </tr>\n",
       "  </thead>\n",
       "  <tbody>\n",
       "    <tr>\n",
       "      <th>0</th>\n",
       "      <td>Sat, Oct 11</td>\n",
       "      <td>7723</td>\n",
       "      <td>687</td>\n",
       "      <td>134.0</td>\n",
       "      <td>70.0</td>\n",
       "    </tr>\n",
       "    <tr>\n",
       "      <th>1</th>\n",
       "      <td>Sun, Oct 12</td>\n",
       "      <td>9102</td>\n",
       "      <td>779</td>\n",
       "      <td>147.0</td>\n",
       "      <td>70.0</td>\n",
       "    </tr>\n",
       "    <tr>\n",
       "      <th>2</th>\n",
       "      <td>Mon, Oct 13</td>\n",
       "      <td>10511</td>\n",
       "      <td>909</td>\n",
       "      <td>167.0</td>\n",
       "      <td>95.0</td>\n",
       "    </tr>\n",
       "    <tr>\n",
       "      <th>3</th>\n",
       "      <td>Tue, Oct 14</td>\n",
       "      <td>9871</td>\n",
       "      <td>836</td>\n",
       "      <td>156.0</td>\n",
       "      <td>105.0</td>\n",
       "    </tr>\n",
       "    <tr>\n",
       "      <th>4</th>\n",
       "      <td>Wed, Oct 15</td>\n",
       "      <td>10014</td>\n",
       "      <td>837</td>\n",
       "      <td>163.0</td>\n",
       "      <td>64.0</td>\n",
       "    </tr>\n",
       "  </tbody>\n",
       "</table>\n",
       "</div>"
      ],
      "text/plain": [
       "          Date  Pageviews  Clicks  Enrollments  Payments\n",
       "0  Sat, Oct 11       7723     687        134.0      70.0\n",
       "1  Sun, Oct 12       9102     779        147.0      70.0\n",
       "2  Mon, Oct 13      10511     909        167.0      95.0\n",
       "3  Tue, Oct 14       9871     836        156.0     105.0\n",
       "4  Wed, Oct 15      10014     837        163.0      64.0"
      ]
     },
     "execution_count": 5,
     "metadata": {},
     "output_type": "execute_result"
    }
   ],
   "source": [
    "df_control.head()"
   ]
  },
  {
   "cell_type": "code",
   "execution_count": 6,
   "metadata": {},
   "outputs": [
    {
     "data": {
      "text/html": [
       "<div>\n",
       "<style scoped>\n",
       "    .dataframe tbody tr th:only-of-type {\n",
       "        vertical-align: middle;\n",
       "    }\n",
       "\n",
       "    .dataframe tbody tr th {\n",
       "        vertical-align: top;\n",
       "    }\n",
       "\n",
       "    .dataframe thead th {\n",
       "        text-align: right;\n",
       "    }\n",
       "</style>\n",
       "<table border=\"1\" class=\"dataframe\">\n",
       "  <thead>\n",
       "    <tr style=\"text-align: right;\">\n",
       "      <th></th>\n",
       "      <th>Date</th>\n",
       "      <th>Pageviews</th>\n",
       "      <th>Clicks</th>\n",
       "      <th>Enrollments</th>\n",
       "      <th>Payments</th>\n",
       "    </tr>\n",
       "  </thead>\n",
       "  <tbody>\n",
       "    <tr>\n",
       "      <th>0</th>\n",
       "      <td>Sat, Oct 11</td>\n",
       "      <td>7716</td>\n",
       "      <td>686</td>\n",
       "      <td>105.0</td>\n",
       "      <td>34.0</td>\n",
       "    </tr>\n",
       "    <tr>\n",
       "      <th>1</th>\n",
       "      <td>Sun, Oct 12</td>\n",
       "      <td>9288</td>\n",
       "      <td>785</td>\n",
       "      <td>116.0</td>\n",
       "      <td>91.0</td>\n",
       "    </tr>\n",
       "    <tr>\n",
       "      <th>2</th>\n",
       "      <td>Mon, Oct 13</td>\n",
       "      <td>10480</td>\n",
       "      <td>884</td>\n",
       "      <td>145.0</td>\n",
       "      <td>79.0</td>\n",
       "    </tr>\n",
       "    <tr>\n",
       "      <th>3</th>\n",
       "      <td>Tue, Oct 14</td>\n",
       "      <td>9867</td>\n",
       "      <td>827</td>\n",
       "      <td>138.0</td>\n",
       "      <td>92.0</td>\n",
       "    </tr>\n",
       "    <tr>\n",
       "      <th>4</th>\n",
       "      <td>Wed, Oct 15</td>\n",
       "      <td>9793</td>\n",
       "      <td>832</td>\n",
       "      <td>140.0</td>\n",
       "      <td>94.0</td>\n",
       "    </tr>\n",
       "  </tbody>\n",
       "</table>\n",
       "</div>"
      ],
      "text/plain": [
       "          Date  Pageviews  Clicks  Enrollments  Payments\n",
       "0  Sat, Oct 11       7716     686        105.0      34.0\n",
       "1  Sun, Oct 12       9288     785        116.0      91.0\n",
       "2  Mon, Oct 13      10480     884        145.0      79.0\n",
       "3  Tue, Oct 14       9867     827        138.0      92.0\n",
       "4  Wed, Oct 15       9793     832        140.0      94.0"
      ]
     },
     "execution_count": 6,
     "metadata": {},
     "output_type": "execute_result"
    }
   ],
   "source": [
    "df_experiment.head()"
   ]
  },
  {
   "cell_type": "code",
   "execution_count": 11,
   "metadata": {},
   "outputs": [
    {
     "data": {
      "text/html": [
       "<div>\n",
       "<style scoped>\n",
       "    .dataframe tbody tr th:only-of-type {\n",
       "        vertical-align: middle;\n",
       "    }\n",
       "\n",
       "    .dataframe tbody tr th {\n",
       "        vertical-align: top;\n",
       "    }\n",
       "\n",
       "    .dataframe thead th {\n",
       "        text-align: right;\n",
       "    }\n",
       "</style>\n",
       "<table border=\"1\" class=\"dataframe\">\n",
       "  <thead>\n",
       "    <tr style=\"text-align: right;\">\n",
       "      <th></th>\n",
       "      <th>Control</th>\n",
       "      <th>Experiment</th>\n",
       "    </tr>\n",
       "  </thead>\n",
       "  <tbody>\n",
       "    <tr>\n",
       "      <th>cookies</th>\n",
       "      <td>345543</td>\n",
       "      <td>344660</td>\n",
       "    </tr>\n",
       "    <tr>\n",
       "      <th>clicks</th>\n",
       "      <td>28378</td>\n",
       "      <td>28325</td>\n",
       "    </tr>\n",
       "  </tbody>\n",
       "</table>\n",
       "</div>"
      ],
      "text/plain": [
       "         Control  Experiment\n",
       "cookies   345543      344660\n",
       "clicks     28378       28325"
      ]
     },
     "execution_count": 11,
     "metadata": {},
     "output_type": "execute_result"
    }
   ],
   "source": [
    "results = {\"Control\":pd.Series([df_control.Pageviews.sum(),df_control.Clicks.sum(),\n",
    "                                  ],\n",
    "                                  index = [\"cookies\",\"clicks\"]),\n",
    "           \"Experiment\":pd.Series([df_experiment.Pageviews.sum(),df_experiment.Clicks.sum(),\n",
    "                                 ],\n",
    "                               index = [\"cookies\",\"clicks\"])}\n",
    "df_results = pd.DataFrame(results)\n",
    "df_results"
   ]
  },
  {
   "cell_type": "markdown",
   "metadata": {},
   "source": [
    "###Sanity Check\n",
    "**Count Metrics"
   ]
  },
  {
   "cell_type": "code",
   "execution_count": 12,
   "metadata": {},
   "outputs": [
    {
     "data": {
      "text/html": [
       "<div>\n",
       "<style scoped>\n",
       "    .dataframe tbody tr th:only-of-type {\n",
       "        vertical-align: middle;\n",
       "    }\n",
       "\n",
       "    .dataframe tbody tr th {\n",
       "        vertical-align: top;\n",
       "    }\n",
       "\n",
       "    .dataframe thead th {\n",
       "        text-align: right;\n",
       "    }\n",
       "</style>\n",
       "<table border=\"1\" class=\"dataframe\">\n",
       "  <thead>\n",
       "    <tr style=\"text-align: right;\">\n",
       "      <th></th>\n",
       "      <th>Control</th>\n",
       "      <th>Experiment</th>\n",
       "      <th>Total</th>\n",
       "      <th>Prob</th>\n",
       "      <th>StdErr</th>\n",
       "      <th>MargErr</th>\n",
       "      <th>CI_lower</th>\n",
       "      <th>CI_upper</th>\n",
       "      <th>Obs_val</th>\n",
       "      <th>Pass_Sanity</th>\n",
       "      <th>Diff</th>\n",
       "    </tr>\n",
       "  </thead>\n",
       "  <tbody>\n",
       "    <tr>\n",
       "      <th>cookies</th>\n",
       "      <td>345543</td>\n",
       "      <td>344660</td>\n",
       "      <td>690203</td>\n",
       "      <td>0.5</td>\n",
       "      <td>0.000602</td>\n",
       "      <td>0.001180</td>\n",
       "      <td>0.498820</td>\n",
       "      <td>0.501180</td>\n",
       "      <td>0.499360</td>\n",
       "      <td>True</td>\n",
       "      <td>0.001279</td>\n",
       "    </tr>\n",
       "    <tr>\n",
       "      <th>clicks</th>\n",
       "      <td>28378</td>\n",
       "      <td>28325</td>\n",
       "      <td>56703</td>\n",
       "      <td>0.5</td>\n",
       "      <td>0.002100</td>\n",
       "      <td>0.004116</td>\n",
       "      <td>0.495884</td>\n",
       "      <td>0.504116</td>\n",
       "      <td>0.499533</td>\n",
       "      <td>True</td>\n",
       "      <td>0.000935</td>\n",
       "    </tr>\n",
       "  </tbody>\n",
       "</table>\n",
       "</div>"
      ],
      "text/plain": [
       "         Control  Experiment   Total  Prob    StdErr   MargErr  CI_lower  \\\n",
       "cookies   345543      344660  690203   0.5  0.000602  0.001180  0.498820   \n",
       "clicks     28378       28325   56703   0.5  0.002100  0.004116  0.495884   \n",
       "\n",
       "         CI_upper   Obs_val  Pass_Sanity      Diff  \n",
       "cookies  0.501180  0.499360         True  0.001279  \n",
       "clicks   0.504116  0.499533         True  0.000935  "
      ]
     },
     "execution_count": 12,
     "metadata": {},
     "output_type": "execute_result"
    }
   ],
   "source": [
    "df_results['Total']=df_results.Control + df_results.Experiment\n",
    "df_results['Prob'] = 0.5\n",
    "df_results['StdErr'] = np.sqrt((df_results.Prob * (1- df_results.Prob))/df_results.Total)\n",
    "df_results[\"MargErr\"] = 1.96 * df_results.StdErr\n",
    "df_results[\"CI_lower\"] = df_results.Prob - df_results.MargErr\n",
    "df_results[\"CI_upper\"] = df_results.Prob + df_results.MargErr\n",
    "df_results[\"Obs_val\"] = df_results.Experiment/df_results.Total\n",
    "df_results[\"Pass_Sanity\"] = df_results.apply(lambda x: (x.Obs_val > x.CI_lower) and (x.Obs_val < x.CI_upper),axis=1)\n",
    "df_results['Diff'] = abs((df_results.Experiment - df_results.Control)/df_results.Total)\n",
    "\n",
    "df_results"
   ]
  },
  {
   "cell_type": "markdown",
   "metadata": {},
   "source": [
    "**Other Metrics**"
   ]
  },
  {
   "cell_type": "code",
   "execution_count": 9,
   "metadata": {},
   "outputs": [
    {
     "name": "stdout",
     "output_type": "stream",
     "text": [
      "0.08212581357457682 0.08218244066616376 0.08126698684411665 0.08309789448821087 0.0004670682765546443 0.0009154538220471028\n"
     ]
    }
   ],
   "source": [
    "# click through probability (clicks/cookies)\n",
    "\n",
    "control_cookies = df_results.loc['cookies','Control']\n",
    "control_clicks = df_results.loc['clicks','Control']\n",
    "\n",
    "exp_cookies = df_results.loc['cookies','Experiment']\n",
    "exp_clicks = df_results.loc['clicks', 'Experiment']\n",
    "\n",
    "## control value \n",
    "cont_p_hat = control_clicks/control_cookies\n",
    "\n",
    "## observed value (experimental value)\n",
    "exp_p_hat = exp_clicks/exp_cookies\n",
    "\n",
    "## Standard Error\n",
    "SE_ClickProb = np.sqrt((cont_p_hat * (1- cont_p_hat))/control_cookies)\n",
    "\n",
    "\n",
    "## margin of error for 95% confidence interval (z = 1.96)\n",
    "\n",
    "ME_ClickProb = SE_ClickProb * 1.96\n",
    "\n",
    "## CI\n",
    "upper_ClickProb = exp_p_hat + ME_ClickProb\n",
    "lower_ClickProb = exp_p_hat - ME_ClickProb\n",
    "\n",
    "## Sane in the membrane (yes, it passes)\n",
    "print(cont_p_hat,exp_p_hat,lower_ClickProb,upper_ClickProb, SE_ClickProb, ME_ClickProb)"
   ]
  },
  {
   "cell_type": "markdown",
   "metadata": {},
   "source": [
    "It passes."
   ]
  },
  {
   "cell_type": "markdown",
   "metadata": {},
   "source": [
    "###Check for Practical and Statistical Significance"
   ]
  },
  {
   "cell_type": "code",
   "execution_count": 13,
   "metadata": {},
   "outputs": [],
   "source": [
    "df_control_notnull = df_control[pd.isnull(df_control.Enrollments) != True]\n",
    "df_experiment_notnull = df_experiment[pd.isnull(df_control.Enrollments) != True]"
   ]
  },
  {
   "cell_type": "code",
   "execution_count": 14,
   "metadata": {},
   "outputs": [
    {
     "data": {
      "text/html": [
       "<div>\n",
       "<style scoped>\n",
       "    .dataframe tbody tr th:only-of-type {\n",
       "        vertical-align: middle;\n",
       "    }\n",
       "\n",
       "    .dataframe tbody tr th {\n",
       "        vertical-align: top;\n",
       "    }\n",
       "\n",
       "    .dataframe thead th {\n",
       "        text-align: right;\n",
       "    }\n",
       "</style>\n",
       "<table border=\"1\" class=\"dataframe\">\n",
       "  <thead>\n",
       "    <tr style=\"text-align: right;\">\n",
       "      <th></th>\n",
       "      <th>Control</th>\n",
       "      <th>Experiment</th>\n",
       "    </tr>\n",
       "  </thead>\n",
       "  <tbody>\n",
       "    <tr>\n",
       "      <th>cookies</th>\n",
       "      <td>212163.0</td>\n",
       "      <td>211362.0</td>\n",
       "    </tr>\n",
       "    <tr>\n",
       "      <th>clicks</th>\n",
       "      <td>17293.0</td>\n",
       "      <td>17260.0</td>\n",
       "    </tr>\n",
       "    <tr>\n",
       "      <th>enrollments</th>\n",
       "      <td>3785.0</td>\n",
       "      <td>3423.0</td>\n",
       "    </tr>\n",
       "    <tr>\n",
       "      <th>payments</th>\n",
       "      <td>2033.0</td>\n",
       "      <td>1945.0</td>\n",
       "    </tr>\n",
       "  </tbody>\n",
       "</table>\n",
       "</div>"
      ],
      "text/plain": [
       "              Control  Experiment\n",
       "cookies      212163.0    211362.0\n",
       "clicks        17293.0     17260.0\n",
       "enrollments    3785.0      3423.0\n",
       "payments       2033.0      1945.0"
      ]
     },
     "execution_count": 14,
     "metadata": {},
     "output_type": "execute_result"
    }
   ],
   "source": [
    "results_notnull = {\"Control\":pd.Series([df_control_notnull.Pageviews.sum(),df_control_notnull.Clicks.sum(),\n",
    "                                  df_control_notnull.Enrollments.sum(),df_control_notnull.Payments.sum()],\n",
    "                                  index = [\"cookies\",\"clicks\",\"enrollments\",\"payments\"]),\n",
    "           \"Experiment\":pd.Series([df_experiment_notnull.Pageviews.sum(),df_experiment_notnull.Clicks.sum(),\n",
    "                               df_experiment_notnull.Enrollments.sum(),df_experiment_notnull.Payments.sum()],\n",
    "                               index = [\"cookies\",\"clicks\",\"enrollments\",\"payments\"])}\n",
    "df_results_notnull = pd.DataFrame(results_notnull)\n",
    "df_results_notnull"
   ]
  },
  {
   "cell_type": "code",
   "execution_count": 15,
   "metadata": {},
   "outputs": [],
   "source": [
    "# experiment values\n",
    "\n",
    "enrollments_exp = df_results_notnull.loc[\"enrollments\"].Experiment\n",
    "clicks_exp = df_results_notnull.loc[\"clicks\"].Experiment\n",
    "payments_exp = df_results_notnull.loc[\"payments\"].Experiment\n",
    "\n",
    "# control values\n",
    "\n",
    "enrollments_cont = df_results_notnull.loc[\"enrollments\"].Control\n",
    "clicks_cont = df_results_notnull.loc[\"clicks\"].Control\n",
    "payments_cont = df_results_notnull.loc[\"payments\"].Control\n",
    "\n",
    "\n",
    "\n",
    "# metrics\n",
    "\n",
    "GrossConversion_exp = enrollments_exp/clicks_exp\n",
    "NetConversion_exp = payments_exp/clicks_exp\n",
    "GrossConversion_cont = enrollments_cont/clicks_cont\n",
    "NetConversion_cont = payments_cont/clicks_cont\n",
    "\n",
    "GrossConversion = (enrollments_exp + enrollments_cont)/(clicks_cont + clicks_exp)\n",
    "NetConversion = (payments_cont + payments_exp)/(clicks_cont + clicks_exp)"
   ]
  },
  {
   "cell_type": "code",
   "execution_count": 16,
   "metadata": {},
   "outputs": [
    {
     "name": "stdout",
     "output_type": "stream",
     "text": [
      "GrossConversion: 0.20860706740369866 \n",
      "NetConversion:0.1151274853124186\n"
     ]
    }
   ],
   "source": [
    "print('GrossConversion: {} \\nNetConversion:{}'.format(GrossConversion,NetConversion))"
   ]
  },
  {
   "cell_type": "code",
   "execution_count": 17,
   "metadata": {},
   "outputs": [
    {
     "data": {
      "text/plain": [
       "0.2188746891805933"
      ]
     },
     "execution_count": 17,
     "metadata": {},
     "output_type": "execute_result"
    }
   ],
   "source": [
    "GrossConversion_cont"
   ]
  },
  {
   "cell_type": "code",
   "execution_count": 18,
   "metadata": {},
   "outputs": [
    {
     "data": {
      "text/plain": [
       "0.19831981460023174"
      ]
     },
     "execution_count": 18,
     "metadata": {},
     "output_type": "execute_result"
    }
   ],
   "source": [
    "GrossConversion_exp"
   ]
  },
  {
   "cell_type": "code",
   "execution_count": 19,
   "metadata": {},
   "outputs": [],
   "source": [
    "def stats_prop(p_hat,z_score,N_cont,N_exp,diff):\n",
    "    std_err = np.sqrt((p_hat * (1- p_hat ))*(1/N_cont + 1/N_exp))\n",
    "    marg_err = z_score * std_err\n",
    "    ci_lower = diff - marg_err\n",
    "    ci_upper = diff + marg_err\n",
    "    \n",
    "    return std_err,marg_err,ci_lower,ci_upper"
   ]
  },
  {
   "cell_type": "code",
   "execution_count": 20,
   "metadata": {},
   "outputs": [
    {
     "data": {
      "text/plain": [
       "-0.020554874580361565"
      ]
     },
     "execution_count": 20,
     "metadata": {},
     "output_type": "execute_result"
    }
   ],
   "source": [
    "GrossConversion_diff = GrossConversion_exp - GrossConversion_cont\n",
    "GrossConversion_diff"
   ]
  },
  {
   "cell_type": "code",
   "execution_count": 22,
   "metadata": {},
   "outputs": [
    {
     "name": "stdout",
     "output_type": "stream",
     "text": [
      "0.004371675385225936 0.008568483755042836 -0.0291233583354044 -0.01198639082531873\n"
     ]
    }
   ],
   "source": [
    "se_gross,me_gross,cil_gross,ciu_gross = stats_prop(GrossConversion,1.96,clicks_cont,\n",
    "                                                   clicks_exp,GrossConversion_diff)\n",
    "print(se_gross,me_gross,cil_gross,ciu_gross)"
   ]
  },
  {
   "cell_type": "markdown",
   "metadata": {},
   "source": [
    "As it can be seen, the 0 is out of CI boundary, and it shows that the obsevered result is statistically significant. Also since the result is on the left hand side of the 0, our expectation is met and the gross conversion rate of the experiment group is lower than the control group."
   ]
  },
  {
   "cell_type": "code",
   "execution_count": 23,
   "metadata": {},
   "outputs": [
    {
     "data": {
      "text/plain": [
       "-0.0048737226745441675"
      ]
     },
     "execution_count": 23,
     "metadata": {},
     "output_type": "execute_result"
    }
   ],
   "source": [
    "NetConversion_diff = NetConversion_exp - NetConversion_cont\n",
    "NetConversion_diff"
   ]
  },
  {
   "cell_type": "code",
   "execution_count": 24,
   "metadata": {
    "scrolled": true
   },
   "outputs": [
    {
     "name": "stdout",
     "output_type": "stream",
     "text": [
      "0.0034341335129324238 0.0067309016853475505 -0.011604624359891718 0.001857179010803383\n"
     ]
    }
   ],
   "source": [
    "se_net,me_net,cil_net,ciu_net = stats_prop(NetConversion,1.96,clicks_cont,\n",
    "                                           clicks_exp,NetConversion_diff)\n",
    "print(se_net,me_net,cil_net,ciu_net)"
   ]
  },
  {
   "cell_type": "markdown",
   "metadata": {},
   "source": [
    "As it can be seen, the difference between net conversion rate of the two expriment and control groups is insignificant. "
   ]
  },
  {
   "cell_type": "markdown",
   "metadata": {},
   "source": [
    "##Sign Test"
   ]
  },
  {
   "cell_type": "code",
   "execution_count": 25,
   "metadata": {},
   "outputs": [],
   "source": [
    "df_SignTest = pd.merge(df_control_notnull,df_experiment_notnull,on=\"Date\")\n",
    "df_SignTest['GrossConversion_cont'] = df_SignTest.Enrollments_x/df_SignTest.Clicks_x\n",
    "df_SignTest['GrossConversion_exp'] = df_SignTest.Enrollments_y/df_SignTest.Clicks_y\n",
    "df_SignTest['NetConversion_cont'] = df_SignTest.Payments_x/df_SignTest.Clicks_x\n",
    "df_SignTest['NetConversion_exp'] = df_SignTest.Payments_y/df_SignTest.Clicks_y\n",
    "\n",
    "cols = ['Date','GrossConversion_cont','GrossConversion_exp','NetConversion_cont','NetConversion_exp']"
   ]
  },
  {
   "cell_type": "code",
   "execution_count": 26,
   "metadata": {},
   "outputs": [
    {
     "data": {
      "text/html": [
       "<div>\n",
       "<style scoped>\n",
       "    .dataframe tbody tr th:only-of-type {\n",
       "        vertical-align: middle;\n",
       "    }\n",
       "\n",
       "    .dataframe tbody tr th {\n",
       "        vertical-align: top;\n",
       "    }\n",
       "\n",
       "    .dataframe thead th {\n",
       "        text-align: right;\n",
       "    }\n",
       "</style>\n",
       "<table border=\"1\" class=\"dataframe\">\n",
       "  <thead>\n",
       "    <tr style=\"text-align: right;\">\n",
       "      <th></th>\n",
       "      <th>Date</th>\n",
       "      <th>GrossConversion_cont</th>\n",
       "      <th>GrossConversion_exp</th>\n",
       "      <th>NetConversion_cont</th>\n",
       "      <th>NetConversion_exp</th>\n",
       "    </tr>\n",
       "  </thead>\n",
       "  <tbody>\n",
       "    <tr>\n",
       "      <th>0</th>\n",
       "      <td>Sat, Oct 11</td>\n",
       "      <td>0.195051</td>\n",
       "      <td>0.153061</td>\n",
       "      <td>0.101892</td>\n",
       "      <td>0.049563</td>\n",
       "    </tr>\n",
       "    <tr>\n",
       "      <th>1</th>\n",
       "      <td>Sun, Oct 12</td>\n",
       "      <td>0.188703</td>\n",
       "      <td>0.147771</td>\n",
       "      <td>0.089859</td>\n",
       "      <td>0.115924</td>\n",
       "    </tr>\n",
       "    <tr>\n",
       "      <th>2</th>\n",
       "      <td>Mon, Oct 13</td>\n",
       "      <td>0.183718</td>\n",
       "      <td>0.164027</td>\n",
       "      <td>0.104510</td>\n",
       "      <td>0.089367</td>\n",
       "    </tr>\n",
       "    <tr>\n",
       "      <th>3</th>\n",
       "      <td>Tue, Oct 14</td>\n",
       "      <td>0.186603</td>\n",
       "      <td>0.166868</td>\n",
       "      <td>0.125598</td>\n",
       "      <td>0.111245</td>\n",
       "    </tr>\n",
       "    <tr>\n",
       "      <th>4</th>\n",
       "      <td>Wed, Oct 15</td>\n",
       "      <td>0.194743</td>\n",
       "      <td>0.168269</td>\n",
       "      <td>0.076464</td>\n",
       "      <td>0.112981</td>\n",
       "    </tr>\n",
       "  </tbody>\n",
       "</table>\n",
       "</div>"
      ],
      "text/plain": [
       "          Date  GrossConversion_cont  GrossConversion_exp  NetConversion_cont  \\\n",
       "0  Sat, Oct 11              0.195051             0.153061            0.101892   \n",
       "1  Sun, Oct 12              0.188703             0.147771            0.089859   \n",
       "2  Mon, Oct 13              0.183718             0.164027            0.104510   \n",
       "3  Tue, Oct 14              0.186603             0.166868            0.125598   \n",
       "4  Wed, Oct 15              0.194743             0.168269            0.076464   \n",
       "\n",
       "   NetConversion_exp  \n",
       "0           0.049563  \n",
       "1           0.115924  \n",
       "2           0.089367  \n",
       "3           0.111245  \n",
       "4           0.112981  "
      ]
     },
     "execution_count": 26,
     "metadata": {},
     "output_type": "execute_result"
    }
   ],
   "source": [
    "df_SignTest = df_SignTest[cols]\n",
    "df_SignTest.head()"
   ]
  },
  {
   "cell_type": "code",
   "execution_count": 27,
   "metadata": {},
   "outputs": [
    {
     "data": {
      "text/plain": [
       "23"
      ]
     },
     "execution_count": 27,
     "metadata": {},
     "output_type": "execute_result"
    }
   ],
   "source": [
    "df_SignTest['GC_Sign'] = df_SignTest.GrossConversion_cont - df_SignTest.GrossConversion_exp\n",
    "df_SignTest['NC_Sign'] = df_SignTest.NetConversion_cont - df_SignTest.NetConversion_exp\n",
    "\n",
    "len(df_SignTest)"
   ]
  },
  {
   "cell_type": "code",
   "execution_count": 31,
   "metadata": {},
   "outputs": [
    {
     "data": {
      "text/plain": [
       "19"
      ]
     },
     "execution_count": 31,
     "metadata": {},
     "output_type": "execute_result"
    }
   ],
   "source": [
    "len(df_SignTest[df_SignTest.GC_Sign > 0])"
   ]
  },
  {
   "cell_type": "code",
   "execution_count": 32,
   "metadata": {},
   "outputs": [
    {
     "data": {
      "text/plain": [
       "10"
      ]
     },
     "execution_count": 32,
     "metadata": {},
     "output_type": "execute_result"
    }
   ],
   "source": [
    "len(df_SignTest[df_SignTest.NC_Sign < 0])"
   ]
  },
  {
   "cell_type": "markdown",
   "metadata": {},
   "source": [
    "**Gross conversion**\n",
    "\n",
    "- Number of success: 19, which is the number of days that we see a decrease in the number of enrollments in the experimental group.\n",
    "- Number of trials: 23, which is the toal 23 days of the experiments.\n",
    "- Probability: 0.5\n",
    "- Two-tailed p-value: 0.0026\n",
    "\n",
    "Since the two-tailed p-value is smaller than alpha = 0.05, the change is statistically significant.\n",
    "\n",
    "**Net conversion**\n",
    "\n",
    "- Number of success: 10, which is the number of days that we see an improvement in the number of payments in the experimental group.\n",
    "- Number of trials: 23, which is the toal 23 days of the experiments.\n",
    "- Probability: 0.5\n",
    "- Two-tailed p-value: 0.6776\n",
    "\n",
    "Since the two-tailed p-value is larger than alpha = 0.05, the change is not statistically significant."
   ]
  },
  {
   "cell_type": "markdown",
   "metadata": {},
   "source": [
    "##Recommendation"
   ]
  },
  {
   "cell_type": "markdown",
   "metadata": {},
   "source": [
    "My recommendation is to **not** implement this new feature into the overview page of Udacity. As a reminder, the original goal for adding this new feature is to decrease in gross conversion and no decrease in net conversion. The result shows that the gross conversion turned out to be negative and practically significant, which is a good result for this metric and for Udacity. This is because it would lower the cost as well as time for the Udacity team to take care of these users who would not have time to complete the courses and thus unlikely to convert. However, the result also shows the confidence interval of the net conversion does include negative numbers of the practical boundary, which implies it is possible that this evaluation metrics got decreased by an amount that could potentially hurt the business. In other words, adding the time commitment alert feature would not help to increase the number of paid users, and hence the revenue of the company."
   ]
  }
 ],
 "metadata": {
  "kernelspec": {
   "display_name": "Python 3",
   "language": "python",
   "name": "python3"
  },
  "language_info": {
   "codemirror_mode": {
    "name": "ipython",
    "version": 3
   },
   "file_extension": ".py",
   "mimetype": "text/x-python",
   "name": "python",
   "nbconvert_exporter": "python",
   "pygments_lexer": "ipython3",
   "version": "3.7.0"
  }
 },
 "nbformat": 4,
 "nbformat_minor": 2
}
